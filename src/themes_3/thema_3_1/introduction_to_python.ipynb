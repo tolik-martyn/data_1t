{
  "nbformat": 4,
  "nbformat_minor": 0,
  "metadata": {
    "colab": {
      "provenance": []
    },
    "kernelspec": {
      "name": "python3",
      "display_name": "Python 3"
    },
    "language_info": {
      "name": "python"
    }
  },
  "cells": [
    {
      "cell_type": "code",
      "execution_count": 16,
      "metadata": {
        "colab": {
          "base_uri": "https://localhost:8080/"
        },
        "id": "eMQ-02Gtc28r",
        "outputId": "747b18ca-8ee8-4a63-a092-f7e5604b9bba"
      },
      "outputs": [
        {
          "output_type": "stream",
          "name": "stdout",
          "text": [
            "[2, 4, 6, 8]\n"
          ]
        }
      ],
      "source": [
        "# Программа, которая удаляет из списка все элементы, стоящие на четных позициях\n",
        "def remove_even_position_elements(input_list):\n",
        "    # Создаем новый список, в который будем копировать элементы на нечетных позициях\n",
        "    result_list = []\n",
        "\n",
        "    # Итерируемся по исходному списку, используя enumerate для получения и индекса и элемента\n",
        "    for index, element in enumerate(input_list):\n",
        "        # Если индекс четный, пропускаем элемент, иначе добавляем его в новый список\n",
        "        if index % 2 != 0:\n",
        "            result_list.append(element)\n",
        "\n",
        "    return result_list\n",
        "\n",
        "# Пример использования функции\n",
        "my_list = [1, 2, 3, 4, 5, 6, 7, 8, 9]\n",
        "result = remove_even_position_elements(my_list)\n",
        "print(result)"
      ]
    },
    {
      "cell_type": "code",
      "source": [
        "# Программа, которая считывает список слов и находит слова, содержащие более трех гласных букв\n",
        "def find_words_with_more_than_three_vowels(word_list):\n",
        "    # Список гласных букв\n",
        "    vowels = \"aeiouAEIOU\"\n",
        "\n",
        "    # Создаем пустой список для хранения найденных слов\n",
        "    result_list = []\n",
        "\n",
        "    for word in word_list:\n",
        "        # Считаем количество гласных букв в слове\n",
        "        vowel_count = sum(1 for letter in word if letter in vowels)\n",
        "\n",
        "        # Если количество гласных букв больше трех, добавляем слово в результат\n",
        "        if vowel_count > 3:\n",
        "            result_list.append(word)\n",
        "\n",
        "    return result_list\n",
        "\n",
        "# Пример использования функции\n",
        "word_list = [\"apple\", \"banana\", \"grape\", \"strawberry\", \"elephant\", \"kangaroo\"]\n",
        "result = find_words_with_more_than_three_vowels(word_list)\n",
        "print(result)"
      ],
      "metadata": {
        "colab": {
          "base_uri": "https://localhost:8080/"
        },
        "id": "Lz41KTPdd9xV",
        "outputId": "6a6cb1d4-00fc-451f-d760-8f92e9f0037f"
      },
      "execution_count": 17,
      "outputs": [
        {
          "output_type": "stream",
          "name": "stdout",
          "text": [
            "['kangaroo']\n"
          ]
        }
      ]
    },
    {
      "cell_type": "code",
      "source": [
        "# Программа, которая находит второй по величине элемент в списке\n",
        "def find_second_largest_element(input_list):\n",
        "    if len(input_list) < 2:\n",
        "        return \"Список слишком короткий, чтобы найти второй по величине элемент.\"\n",
        "\n",
        "    # Используем множество для удаления дубликатов и сортируем список в порядке убывания\n",
        "    sorted_set = sorted(set(input_list), reverse=True)\n",
        "\n",
        "    # Если второй по величине элемент существует\n",
        "    if len(sorted_set) > 1:\n",
        "        return sorted_set[1]\n",
        "    else:\n",
        "        return \"Второго по величине элемента не существует.\"\n",
        "\n",
        "# Пример использования функции\n",
        "my_list = [12, 45, 2, 41, 31, 10, 8, 6]\n",
        "result = find_second_largest_element(my_list)\n",
        "print(result)\n"
      ],
      "metadata": {
        "colab": {
          "base_uri": "https://localhost:8080/"
        },
        "id": "uZT9zpFwei2i",
        "outputId": "fc0a7e67-9acc-4ddb-99fa-dc57b15c6de3"
      },
      "execution_count": 18,
      "outputs": [
        {
          "output_type": "stream",
          "name": "stdout",
          "text": [
            "41\n"
          ]
        }
      ]
    },
    {
      "cell_type": "code",
      "source": [
        "# Программа, которая удаляет из списка все дубликаты\n",
        "def remove_duplicates(input_list):\n",
        "    # Создаем пустой список для хранения уникальных элементов\n",
        "    unique_list = []\n",
        "\n",
        "    for item in input_list:\n",
        "        if item not in unique_list:\n",
        "            unique_list.append(item)\n",
        "\n",
        "    return unique_list\n",
        "\n",
        "# Пример использования функции\n",
        "my_list = [1, 2, 2, 3, 4, 4, 5]\n",
        "result = remove_duplicates(my_list)\n",
        "print(result)"
      ],
      "metadata": {
        "colab": {
          "base_uri": "https://localhost:8080/"
        },
        "id": "qmex3w7dfivg",
        "outputId": "ccd9f193-1f00-4b6f-ced5-631729c058a8"
      },
      "execution_count": 19,
      "outputs": [
        {
          "output_type": "stream",
          "name": "stdout",
          "text": [
            "[1, 2, 3, 4, 5]\n"
          ]
        }
      ]
    },
    {
      "cell_type": "code",
      "source": [
        "# Программа, которая считывает данные из CSV-файла и создает словарь, где ключами являются значения в столбце «Name», а значениями — соответствующие им словари с информацией о поле, возрасте и зарплате\n",
        "import csv\n",
        "\n",
        "def read_csv_and_create_dictionary(csv_file):\n",
        "    data_dict = {}  # Создаем пустой словарь для хранения данных\n",
        "\n",
        "    with open(csv_file, mode='r', newline='') as file:\n",
        "        csv_reader = csv.DictReader(file)  # Используем DictReader для чтения CSV\n",
        "\n",
        "        for row in csv_reader:\n",
        "            name = row[\"Name\"]\n",
        "            data = {\n",
        "                \"Gender\": row[\"Gender\"],\n",
        "                \"Age\": int(row[\"Age\"]),\n",
        "                \"Salary\": float(row[\"Salary\"])\n",
        "            }\n",
        "\n",
        "            data_dict[name] = data  # Добавляем данные в словарь\n",
        "\n",
        "    return data_dict\n",
        "\n",
        "# Пример использования функции\n",
        "csv_file = 'my_data.csv'\n",
        "data = read_csv_and_create_dictionary(csv_file)\n",
        "data\n"
      ],
      "metadata": {
        "colab": {
          "base_uri": "https://localhost:8080/"
        },
        "id": "AmqJ_VI4f-Ws",
        "outputId": "6ef687e8-f62d-4093-abe7-8efb22206a1e"
      },
      "execution_count": 20,
      "outputs": [
        {
          "output_type": "execute_result",
          "data": {
            "text/plain": [
              "{'John': {'Gender': 'Male', 'Age': 28, 'Salary': 50000.0},\n",
              " 'Alice': {'Gender': 'Female', 'Age': 32, 'Salary': 60000.0},\n",
              " 'David': {'Gender': 'Male', 'Age': 25, 'Salary': 45000.0},\n",
              " 'Ella': {'Gender': 'Female', 'Age': 29, 'Salary': 55000.0},\n",
              " 'Michael': {'Gender': 'Male', 'Age': 30, 'Salary': 52000.0},\n",
              " 'Sophia': {'Gender': 'Female', 'Age': 27, 'Salary': 48000.0},\n",
              " 'William': {'Gender': 'Male', 'Age': 35, 'Salary': 70000.0},\n",
              " 'Olivia': {'Gender': 'Female', 'Age': 26, 'Salary': 51000.0},\n",
              " 'Daniel': {'Gender': 'Male', 'Age': 31, 'Salary': 58000.0}}"
            ]
          },
          "metadata": {},
          "execution_count": 20
        }
      ]
    },
    {
      "cell_type": "code",
      "source": [
        "import re\n",
        "\n",
        "def find_substrings_with_punctuation(input_string):\n",
        "    # Используем регулярное выражение для разделения строки на слова\n",
        "    words = re.findall(r'\\b\\w+\\b', input_string)\n",
        "\n",
        "    # Создаем список подходящих подстрок\n",
        "    substrings = [word for word in words if len(word) >= 3]\n",
        "\n",
        "    return substrings\n",
        "\n",
        "# Запрос строки у пользователя\n",
        "user_input = input(\"Введите строку: \")\n",
        "result = find_substrings_with_punctuation(user_input)\n",
        "\n",
        "print(\"Подстроки длиной не менее трех символов (с учетом знаков препинания):\", result)"
      ],
      "metadata": {
        "colab": {
          "base_uri": "https://localhost:8080/"
        },
        "id": "4JdFB9COh1Ex",
        "outputId": "4b41fd0a-c980-4c70-da05-a0974cd649a6"
      },
      "execution_count": 21,
      "outputs": [
        {
          "output_type": "stream",
          "name": "stdout",
          "text": [
            "Введите строку: Hello, how are you today? I'm doing well.\n",
            "Подстроки длиной не менее трех символов (с учетом знаков препинания): ['Hello', 'how', 'are', 'you', 'today', 'doing', 'well']\n"
          ]
        }
      ]
    },
    {
      "cell_type": "code",
      "source": [],
      "metadata": {
        "id": "ZfBbBP3plihX"
      },
      "execution_count": null,
      "outputs": []
    }
  ]
}