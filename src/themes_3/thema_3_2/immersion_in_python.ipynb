{
  "nbformat": 4,
  "nbformat_minor": 0,
  "metadata": {
    "colab": {
      "provenance": []
    },
    "kernelspec": {
      "name": "python3",
      "display_name": "Python 3"
    },
    "language_info": {
      "name": "python"
    }
  },
  "cells": [
    {
      "cell_type": "code",
      "execution_count": 15,
      "metadata": {
        "colab": {
          "base_uri": "https://localhost:8080/"
        },
        "id": "XwIIzBskJPMi",
        "outputId": "aa3f3858-c073-47de-c709-061aab2c99db"
      },
      "outputs": [
        {
          "output_type": "stream",
          "name": "stdout",
          "text": [
            "Введите длину стороны квадрата: 5\n",
            "Длина стороны квадрата: 5.0\n",
            "Площадь квадрата: 25.0\n",
            "Периметр квадрата: 20.0\n"
          ]
        }
      ],
      "source": [
        "# Функция, которая принимает на вход длину стороны квадрата и выводит на экран площадь квадрата и его периметр\n",
        "def square_info(side_length):\n",
        "    # Вычисляем площадь квадрата\n",
        "    area = side_length ** 2\n",
        "    # Вычисляем периметр квадрата\n",
        "    perimeter = 4 * side_length\n",
        "\n",
        "    # Выводим информацию о квадрате\n",
        "    print(f\"Длина стороны квадрата: {side_length}\")\n",
        "    print(f\"Площадь квадрата: {area}\")\n",
        "    print(f\"Периметр квадрата: {perimeter}\")\n",
        "\n",
        "# Пример использования функции\n",
        "side_length = float(input(\"Введите длину стороны квадрата: \"))\n",
        "square_info(side_length)"
      ]
    },
    {
      "cell_type": "code",
      "source": [
        "# Функция, которая принимает два числа и считает сумму квадратов этих двух чисел\n",
        "def sum_of_squares(x, y):\n",
        "    squared = x**2 + y**2\n",
        "    return squared\n",
        "\n",
        "# Пример использования функции\n",
        "num1 = float(input(\"Введите первое число: \"))\n",
        "num2 = float(input(\"Введите второе число: \"))\n",
        "\n",
        "squared = sum_of_squares(num1, num2)\n",
        "\n",
        "print(f\"Сумма квадратов {num1} и {num2} равна {squared}\")"
      ],
      "metadata": {
        "colab": {
          "base_uri": "https://localhost:8080/"
        },
        "id": "mjvLDYfmJ_8j",
        "outputId": "34bfc859-68a3-46fc-9c30-91eac1ceab1a"
      },
      "execution_count": 16,
      "outputs": [
        {
          "output_type": "stream",
          "name": "stdout",
          "text": [
            "Введите первое число: 3\n",
            "Введите второе число: 4\n",
            "Сумма квадратов 3.0 и 4.0 равна 25.0\n"
          ]
        }
      ]
    },
    {
      "cell_type": "code",
      "source": [
        "# Функция, которая принимает на вход список и возвращает его в обратном порядке\n",
        "def reverse_list(input_list):\n",
        "    new_list = input_list[::-1]\n",
        "    return new_list\n",
        "\n",
        "# Пример использования функции\n",
        "original_list = [\"male\", \"male\", \"female\", \"male\", \"male\", \"female\", \"female\"]\n",
        "new_list = reverse_list(original_list)\n",
        "\n",
        "print(new_list)"
      ],
      "metadata": {
        "colab": {
          "base_uri": "https://localhost:8080/"
        },
        "id": "9Ib0Z2l0K8LC",
        "outputId": "89edba06-626b-436d-ce1a-e64e821cdfcb"
      },
      "execution_count": 17,
      "outputs": [
        {
          "output_type": "stream",
          "name": "stdout",
          "text": [
            "['female', 'female', 'male', 'male', 'female', 'male', 'male']\n"
          ]
        }
      ]
    },
    {
      "cell_type": "code",
      "source": [
        "# Функция, которая принимает на вход список и выводит на экран количество мужчин или количество женщин в зависимости от требований пользователя\n",
        "def count_gender_in_list(input_list, gender):\n",
        "    if gender == \"male\":\n",
        "        count = input_list.count(\"male\")\n",
        "        print(f\"Количество мужчин в списке: {count}\")\n",
        "    elif gender == \"female\":\n",
        "        count = input_list.count(\"female\")\n",
        "        print(f\"Количество женщин в списке: {count}\")\n",
        "    else:\n",
        "        print(\"Неверный выбор. Введите 'male' для подсчета мужчин или 'female' для подсчета женщин.\")\n",
        "\n",
        "# Пример использования функции\n",
        "new_list = [\"male\", \"male\", \"female\", \"male\", \"male\", \"female\", \"female\"]\n",
        "\n",
        "user_choice = input(\"Введите 'male' для подсчета мужчин или 'female' для подсчета женщин: \")\n",
        "\n",
        "count_gender_in_list(new_list, user_choice)"
      ],
      "metadata": {
        "colab": {
          "base_uri": "https://localhost:8080/"
        },
        "id": "7jCIsauEMSEX",
        "outputId": "f4006aaa-e121-49ab-ad3a-7184f600f0d8"
      },
      "execution_count": 18,
      "outputs": [
        {
          "output_type": "stream",
          "name": "stdout",
          "text": [
            "Введите 'male' для подсчета мужчин или 'female' для подсчета женщин: female\n",
            "Количество женщин в списке: 3\n"
          ]
        }
      ]
    },
    {
      "cell_type": "code",
      "source": [
        "# Функция, которая принимает строку и возвращает словарь, где ключи — это символы строки, а значения кол-во символов в строке\n",
        "def count_characters_in_string(input_string):\n",
        "    char_count = {}\n",
        "    for char in input_string:\n",
        "        if char in char_count:\n",
        "            char_count[char] += 1\n",
        "        else:\n",
        "            char_count[char] = 1\n",
        "    return char_count\n",
        "\n",
        "# Пример использования функции\n",
        "input_string = input(\"Введите строку: \")\n",
        "result = count_characters_in_string(input_string)\n",
        "\n",
        "print(\"Результат:\")\n",
        "for char, count in result.items():\n",
        "    print(f\"'{char}': {count}\")"
      ],
      "metadata": {
        "colab": {
          "base_uri": "https://localhost:8080/"
        },
        "id": "SOtck3anMTzE",
        "outputId": "9dac462d-a01f-4066-8df1-649d916c9684"
      },
      "execution_count": 19,
      "outputs": [
        {
          "output_type": "stream",
          "name": "stdout",
          "text": [
            "Введите строку: female\n",
            "Результат:\n",
            "'f': 1\n",
            "'e': 2\n",
            "'m': 1\n",
            "'a': 1\n",
            "'l': 1\n"
          ]
        }
      ]
    }
  ]
}