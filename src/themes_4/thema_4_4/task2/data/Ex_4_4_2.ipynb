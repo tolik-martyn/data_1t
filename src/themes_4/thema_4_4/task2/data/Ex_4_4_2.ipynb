{
  "nbformat": 4,
  "nbformat_minor": 0,
  "metadata": {
    "colab": {
      "provenance": []
    },
    "kernelspec": {
      "name": "python3",
      "display_name": "Python 3"
    },
    "language_info": {
      "name": "python"
    }
  },
  "cells": [
    {
      "cell_type": "code",
      "execution_count": null,
      "metadata": {
        "id": "Yn-ueHK7Vq1J"
      },
      "outputs": [],
      "source": [
        "import numpy as np\n",
        "import pandas as pd"
      ]
    },
    {
      "cell_type": "markdown",
      "source": [
        "#### customers.csv"
      ],
      "metadata": {
        "id": "-f6q8PwcWml2"
      }
    },
    {
      "cell_type": "code",
      "source": [
        "# Чтение файла CSV\n",
        "df = pd.read_csv('csv_files/customers.csv')\n",
        "\n",
        "# Добавление столбца с годом подписки\n",
        "df['year_subs'] = pd.to_datetime(df['Subscription Date']).dt.to_period('Y')\n",
        "\n",
        "# Преобразование Customer Id из шестнадцатеричной системы в десятичную\n",
        "df['tmp'] = df['Customer Id'].apply(lambda a: int(a, 16))\n",
        "\n",
        "# Деление на группы\n",
        "df['cust_group'] = pd.qcut(df['tmp'], q=10, labels=[f'{i:02}' for i in range(1, 11)])\n",
        "\n",
        "# Удаление временного столбца\n",
        "df.drop(columns=['tmp'], inplace=True)\n",
        "\n",
        "# Запись в новый CSV файл с разделителем табуляции\n",
        "df.to_csv('customers_new.csv', index=False, sep='\\t')"
      ],
      "metadata": {
        "id": "04KXMBKeV3dq"
      },
      "execution_count": 6,
      "outputs": []
    },
    {
      "cell_type": "markdown",
      "source": [
        "#### people.csv"
      ],
      "metadata": {
        "id": "A5bzw69ua6LD"
      }
    },
    {
      "cell_type": "code",
      "source": [
        "# Чтение файла CSV\n",
        "df = pd.read_csv('csv_files/people.csv')\n",
        "\n",
        "# Преобразование User Id из шестнадцатеричной системы в десятичную и создание столбца 'cust_group'\n",
        "df['cust_group'] = pd.qcut(df['User Id'].apply(lambda a: int(a, 16)), q=10, labels=[f'{i:02}' for i in range(1, 11)])\n",
        "\n",
        "# Запись в новый CSV файл с разделителем табуляции\n",
        "df.to_csv('people_new.csv', index=False, sep='\\t')"
      ],
      "metadata": {
        "id": "7rFHE6GYa7NT"
      },
      "execution_count": 8,
      "outputs": []
    },
    {
      "cell_type": "markdown",
      "source": [
        "#### organizations.csv"
      ],
      "metadata": {
        "id": "hkQ1P-u1bgt1"
      }
    },
    {
      "cell_type": "code",
      "source": [
        "# Чтение файла CSV\n",
        "df = pd.read_csv('csv_files/organizations.csv')\n",
        "\n",
        "# Преобразование Organization Id из шестнадцатеричной системы в десятичную и создание столбца 'cust_group'\n",
        "df['cust_group'] = pd.qcut(df['Organization Id'].apply(lambda a: int(a, 16)), q=10, labels=[f'{i:02}' for i in range(1, 11)])\n",
        "\n",
        "# Запись в новый CSV файл с разделителем табуляции\n",
        "df.to_csv('organizations_new.csv', index=False, sep='\\t')"
      ],
      "metadata": {
        "id": "kjxhM4QgbKxS"
      },
      "execution_count": 9,
      "outputs": []
    },
    {
      "cell_type": "markdown",
      "source": [
        "#### Возрастные группы"
      ],
      "metadata": {
        "id": "BIGPLPgUg89o"
      }
    },
    {
      "cell_type": "code",
      "source": [
        "data = {\n",
        "    'Start Age': [0, 19, 26, 33, 40, 48, 55, 62, 70],\n",
        "    'End Age': [18, 25, 32, 39, 47, 54, 61, 69, 150],\n",
        "    'Age Group': ['0-18', '19-25', '26-32', '33-39', '40-47', '48-54', '55-61', '62-69', '70+']\n",
        "}\n",
        "\n",
        "df = pd.DataFrame(data)\n",
        "df.to_csv('age_groups.csv', index=False, header=False)"
      ],
      "metadata": {
        "id": "HlLncglhb0ba"
      },
      "execution_count": 10,
      "outputs": []
    }
  ]
}